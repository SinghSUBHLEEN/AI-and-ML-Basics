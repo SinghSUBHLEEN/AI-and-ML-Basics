{
 "cells": [
  {
   "cell_type": "markdown",
   "id": "fe2796b6",
   "metadata": {},
   "source": [
    "# <font color=\"#2a9fd6\" size=\"10px\">Intro to Numpy</font>"
   ]
  },
  {
   "cell_type": "markdown",
   "id": "a725739f",
   "metadata": {},
   "source": [
    "* <span style=\"display:inline; font-size:22px; color:green; font-weight:bold\">Numpy</span> is a python library that is build using <font color=\"red\">$\\textbf{C}$</font> and <font color=\"red\">$\\textbf{Python}$</font> for better performance than traditional python data-structures.\n",
    "\n",
    "* Numpy is used in python to make in run time a lot faster and it takes a lot less memory to store things as compared to python data structures like dictionaries and lists.\n",
    "\n",
    "* Numpy uses the <span style=\"text-decoration:underline; color:#485bbb; font-size:large\">pointer and reference functionality of C/C++</span> to optimize the space and time complexities.\n",
    "\n",
    "* It also provides better and easy ways of data handling and processing.\n"
   ]
  },
  {
   "cell_type": "code",
   "execution_count": null,
   "id": "92309715",
   "metadata": {},
   "outputs": [],
   "source": []
  }
 ],
 "metadata": {
  "kernelspec": {
   "display_name": "Python 3 (ipykernel)",
   "language": "python",
   "name": "python3"
  },
  "language_info": {
   "codemirror_mode": {
    "name": "ipython",
    "version": 3
   },
   "file_extension": ".py",
   "mimetype": "text/x-python",
   "name": "python",
   "nbconvert_exporter": "python",
   "pygments_lexer": "ipython3",
   "version": "3.11.5"
  }
 },
 "nbformat": 4,
 "nbformat_minor": 5
}
