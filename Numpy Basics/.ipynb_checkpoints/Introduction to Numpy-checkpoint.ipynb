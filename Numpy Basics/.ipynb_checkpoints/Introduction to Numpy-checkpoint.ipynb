{
 "cells": [
  {
   "cell_type": "markdown",
   "id": "fe2796b6",
   "metadata": {},
   "source": [
    "# <font color=\"#2a9fd6\" size=\"10px\">Intro to Numpy</font>"
   ]
  },
  {
   "cell_type": "markdown",
   "id": "a725739f",
   "metadata": {},
   "source": [
    "* <span style=\"display:inline; font-size:22px; color:green; font-weight:bold\">Numpy</span> is a python library that is build using <font color=\"red\">$\\textbf{C}$</font> and <font color=\"red\">$\\textbf{Python}$</font> for better performance than traditional python data-structures.\n",
    "\n",
    "* Numpy is used in python to make in run time a lot faster and it takes a lot less memory to store things as compared to python data structures like dictionaries and lists.\n",
    "\n",
    "* Numpy uses the <span style=\"text-decoration:underline; color:#485bbb; font-size:large\">pointer and reference functionality of C/C++</span> to optimize the space and time complexities.\n",
    "\n",
    "* It also provides better and easy ways of data handling and processing.\n"
   ]
  },
  {
   "cell_type": "markdown",
   "id": "eb4f6d37",
   "metadata": {},
   "source": [
    "First, we need to install this library by using pip by using following command:"
   ]
  },
  {
   "cell_type": "code",
   "execution_count": 1,
   "id": "730243bd",
   "metadata": {},
   "outputs": [],
   "source": [
    "# pip install numpy"
   ]
  },
  {
   "cell_type": "code",
   "execution_count": 2,
   "id": "e0433780",
   "metadata": {},
   "outputs": [],
   "source": [
    "#using numpy below\n",
    "\n",
    "import numpy as np;"
   ]
  },
  {
   "cell_type": "markdown",
   "id": "4f1e0485",
   "metadata": {},
   "source": [
    "<span style=\"font-size:20px; font-weight:bold\"># Concept of numpy arrays<span>"
   ]
  },
  {
   "cell_type": "code",
   "execution_count": 3,
   "id": "c82a73e1",
   "metadata": {},
   "outputs": [
    {
     "name": "stdout",
     "output_type": "stream",
     "text": [
      "[1 2 4 22 81 {0, 1, 'key', 6} {1: '0', 2: '3'} 'Hello']\n"
     ]
    }
   ],
   "source": [
    "# we need to pass in a python list to create a numpy array.\n",
    "# This numpy array is very similar to python list, but there are some major differences.\n",
    "\n",
    "\n",
    "arr = np.array([1,2,4,22,81, {1,6,0,\"key\"}, {1:\"0\", 2:\"3\"}, \"Hello\"]);\n",
    "print(arr);\n"
   ]
  },
  {
   "cell_type": "markdown",
   "id": "aefc2a14",
   "metadata": {},
   "source": [
    "The above array is not type safe. The array contains objects of various types. But, we can also pass in certain parameters like <font color=\"#485bbb\">dtype</font> to the array() function for strict type checking."
   ]
  },
  {
   "cell_type": "code",
   "execution_count": 4,
   "id": "7575ffab",
   "metadata": {},
   "outputs": [
    {
     "name": "stdout",
     "output_type": "stream",
     "text": [
      "[ 1  0 10  6  9  3  2  5]\n"
     ]
    }
   ],
   "source": [
    "# strict int32 type numpy array\n",
    "\n",
    "arr2 = np.array([1,0,10,6,9,3,2,5], dtype='int64');\n",
    "print(arr2);"
   ]
  },
  {
   "cell_type": "code",
   "execution_count": 5,
   "id": "614cf0f1",
   "metadata": {},
   "outputs": [
    {
     "name": "stdout",
     "output_type": "stream",
     "text": [
      "[[9 5 3]\n",
      " [1 6 3]\n",
      " [0 8 9]]\n"
     ]
    }
   ],
   "source": [
    "#similarly we can decleare 2D and 3D array as,\n",
    "\n",
    "arr3 = np.array([[9,5,3],[1,6,3],[0,8,9]], dtype=\"int64\");\n",
    "print(arr3);"
   ]
  },
  {
   "cell_type": "markdown",
   "id": "ac7574b5",
   "metadata": {},
   "source": [
    "We can use attributes of the numpy arrays like **<font color=\"#485bbb\">size, shape, dtype</font>** (and many more) to know the length, dimension, data-type of a particular array object."
   ]
  },
  {
   "cell_type": "code",
   "execution_count": 6,
   "id": "9a509afb",
   "metadata": {},
   "outputs": [
    {
     "name": "stdout",
     "output_type": "stream",
     "text": [
      "9 (3, 3) int64\n"
     ]
    }
   ],
   "source": [
    "print(arr3.size, arr3.shape, arr3.dtype);\n",
    "\n",
    "# we can access multi-dimensional arrays like arr[x, y, z] or in the standard format like arr[x][y][z]"
   ]
  },
  {
   "cell_type": "markdown",
   "id": "3d4316ad",
   "metadata": {},
   "source": [
    "We can create arrays in numpy by using different functions like **<font color=\"#485bbb\">zeros, one, empty, arange</font>**.\n",
    "\n",
    "* **ones** create array of specified size and initializes everything with 1\n",
    "* **zeros** is same as ones, but it initial value is 0\n",
    "* **empty** is same as ones and zeros, but it supplies garabage values to begin with\n",
    "* **arange** creates an array till n-1, starting from any number\n",
    "* **linspace** creates a double type array. It takes in 3 arguments, start (s), end(e), and sample size(n). This function takes in these arguments to return an array of equally spaced *n* double values between the range *[s, e]* (inclusive)."
   ]
  },
  {
   "cell_type": "code",
   "execution_count": 7,
   "id": "1df1abda",
   "metadata": {},
   "outputs": [
    {
     "name": "stdout",
     "output_type": "stream",
     "text": [
      "[0. 0. 0. 0. 0. 0. 0. 0. 0. 0.]\n",
      "[1. 1. 1. 1. 1. 1. 1. 1. 1. 1.]\n",
      "[2.02369289e-320             nan 0.00000000e+000 2.12199579e-314\n",
      " 2.75859453e-313 4.94065646e-322 0.00000000e+000 0.00000000e+000\n",
      " 2.12199579e-314 3.39519327e-313]\n",
      "[0 1 2 3 4 5 6 7 8 9]\n",
      "[ 1.          1.64285714  2.28571429  2.92857143  3.57142857  4.21428571\n",
      "  4.85714286  5.5         6.14285714  6.78571429  7.42857143  8.07142857\n",
      "  8.71428571  9.35714286 10.        ]\n"
     ]
    }
   ],
   "source": [
    "l1 = np.zeros(10);\n",
    "l2 = np.ones(10);\n",
    "l3 = np.empty(10);\n",
    "l4 = np.arange(10);\n",
    "l5 = np.linspace(1, 10, 15);\n",
    "\n",
    "print(l1);\n",
    "print(l2);\n",
    "print(l3);\n",
    "print(l4);\n",
    "print(l5);"
   ]
  },
  {
   "cell_type": "markdown",
   "id": "93ab5510",
   "metadata": {},
   "source": [
    "Now, if we were to create 2D or 3D arrays using zeros or ones, then we need to pass in **<font color=\"red\">tuple</font>** that specifies the shape of the array."
   ]
  },
  {
   "cell_type": "code",
   "execution_count": 8,
   "id": "fd013b2f",
   "metadata": {},
   "outputs": [
    {
     "name": "stdout",
     "output_type": "stream",
     "text": [
      "[[[0. 0. 0. 0.]\n",
      "  [0. 0. 0. 0.]]\n",
      "\n",
      " [[0. 0. 0. 0.]\n",
      "  [0. 0. 0. 0.]]\n",
      "\n",
      " [[0. 0. 0. 0.]\n",
      "  [0. 0. 0. 0.]]]\n"
     ]
    }
   ],
   "source": [
    "# this creates array of dimension int[3][2][4]\n",
    "\n",
    "l6 = np.zeros((3, 2, 4));\n",
    "print(l6);"
   ]
  },
  {
   "cell_type": "markdown",
   "id": "deab5c2d",
   "metadata": {},
   "source": [
    "We can also generate an **<font color=\"red\">identity matrix</font>** of size n by using the identity function."
   ]
  },
  {
   "cell_type": "code",
   "execution_count": 9,
   "id": "79b73d93",
   "metadata": {},
   "outputs": [
    {
     "name": "stdout",
     "output_type": "stream",
     "text": [
      "[[1. 0. 0.]\n",
      " [0. 1. 0.]\n",
      " [0. 0. 1.]]\n"
     ]
    }
   ],
   "source": [
    "idn3 = np.identity(3);\n",
    "print(idn3);"
   ]
  },
  {
   "cell_type": "markdown",
   "id": "9a9a3467",
   "metadata": {},
   "source": [
    "Now, lets say that we have an array and we need to reshape this array into a matrix, then we can use the reshape method to do that."
   ]
  },
  {
   "cell_type": "code",
   "execution_count": 10,
   "id": "bf576ba5",
   "metadata": {},
   "outputs": [
    {
     "name": "stdout",
     "output_type": "stream",
     "text": [
      "[1 1 1 1 1 1 1 1 1 1 1 1 1 1 1 1 1 1 1 1 1 1 1 1 1 1 1 1 1 1]\n",
      "[[[1 1 1]\n",
      "  [1 1 1]\n",
      "  [1 1 1]\n",
      "  [1 1 1]\n",
      "  [1 1 1]]\n",
      "\n",
      " [[1 1 1]\n",
      "  [1 1 1]\n",
      "  [1 1 1]\n",
      "  [1 1 1]\n",
      "  [1 1 1]]]\n"
     ]
    }
   ],
   "source": [
    "# lets say we have an array of size 30\n",
    "\n",
    "shp = np.array([1]*30);\n",
    "print(shp);\n",
    "\n",
    "# now we can reshape this into a matrix of desired dimensions ([x][y][z] say). But the only condition is x*y*z = 30.\n",
    "# the reshape function returns a new array with desired shape\n",
    "\n",
    "shp = shp.reshape((2, 5, 3));\n",
    "print(shp);"
   ]
  },
  {
   "cell_type": "markdown",
   "id": "2bf87cbd",
   "metadata": {},
   "source": [
    "Similarly, we can also transform a matrix in linear form by using the **<font color=\"red\">ravel()</font>** function."
   ]
  },
  {
   "cell_type": "code",
   "execution_count": 11,
   "id": "bf3055f3",
   "metadata": {},
   "outputs": [
    {
     "name": "stdout",
     "output_type": "stream",
     "text": [
      "[1 1 1 1 1 1 1 1 1 1 1 1 1 1 1 1 1 1 1 1 1 1 1 1 1 1 1 1 1 1]\n"
     ]
    }
   ],
   "source": [
    "newShp = shp.ravel();\n",
    "print(newShp);"
   ]
  },
  {
   "cell_type": "markdown",
   "id": "55b0f6d8",
   "metadata": {},
   "source": [
    "<span style=\"font-size:20px; font-weight:bold\"># Concept of axis<span>"
   ]
  },
  {
   "cell_type": "markdown",
   "id": "758ee19c",
   "metadata": {},
   "source": [
    "The concept of axis is very similar to the original concept of axis. It is very similar to coordinate geometry axis. Suppose we have a 2D space, then we have a total of 2 axes in it. Similarly for a 3D space, we need 3 axes to define a particular location."
   ]
  },
  {
   "cell_type": "markdown",
   "id": "d6cca326",
   "metadata": {},
   "source": [
    "Suppose we had a 2D array which represents a 2D plane. Now, if we wanted to sort the elements of the matrix row wise (in other words x-axis or axis 1), we can directly do that. Same can be done for column wise sort (in other words y-axis or axis 0)"
   ]
  },
  {
   "cell_type": "code",
   "execution_count": 12,
   "id": "2aa1b4de",
   "metadata": {},
   "outputs": [
    {
     "name": "stdout",
     "output_type": "stream",
     "text": [
      "[[ 2  6  9]\n",
      " [-4  0  1]\n",
      " [ 1  3  5]]\n"
     ]
    },
    {
     "data": {
      "text/plain": [
       "array([-1,  9, 15])"
      ]
     },
     "execution_count": 12,
     "metadata": {},
     "output_type": "execute_result"
    }
   ],
   "source": [
    "mat = np.array([[9,2,6],[0, 1, -4],[1,5,3]]);\n",
    "\n",
    "# remember sort is in place\n",
    "\n",
    "mat.sort(axis=1);\n",
    "print(mat);\n",
    "\n",
    "# we can similarly find the sum of a particular column of row as\n",
    "\n",
    "mat.sum(axis=0)"
   ]
  },
  {
   "cell_type": "markdown",
   "id": "39584838",
   "metadata": {},
   "source": [
    "<span style=\"font-size:20px; font-weight:bold\"># Various other attributes and concepts<span>"
   ]
  },
  {
   "cell_type": "markdown",
   "id": "720e90f9",
   "metadata": {},
   "source": [
    "* We can use the **.T** attribute to transpose a matrix.\n",
    "* We can get the number of dimension of a particular array by using the **.ndim** attributes."
   ]
  },
  {
   "cell_type": "code",
   "execution_count": 13,
   "id": "9f607ba8",
   "metadata": {},
   "outputs": [
    {
     "name": "stdout",
     "output_type": "stream",
     "text": [
      "[[ 2 -4  1]\n",
      " [ 6  0  3]\n",
      " [ 9  1  5]]\n",
      "2\n",
      "9\n",
      "(3, 3)\n",
      "36\n"
     ]
    }
   ],
   "source": [
    "print(mat.T);\n",
    "print(mat.ndim);\n",
    "print(mat.size);\n",
    "print(mat.shape);\n",
    "print(mat.nbytes);"
   ]
  },
  {
   "cell_type": "markdown",
   "id": "2f40bc92",
   "metadata": {},
   "source": [
    "We can also use certain function like, **argmax(), argmin(), argsort(), sort(), sum(), etc**. argmax, argmin returns the index or location of the max and min elements respectively. But, argsort returns a list of indices of the elements that will make the array sorted.\n",
    "\n",
    "**Note:** argmin and argmax methods without axis will flatten the matrix and then do the required job"
   ]
  },
  {
   "cell_type": "code",
   "execution_count": 14,
   "id": "fa645361",
   "metadata": {},
   "outputs": [
    {
     "name": "stdout",
     "output_type": "stream",
     "text": [
      "[0 0 0]\n",
      "[1 1 1]\n",
      "[[ 2  6  9]\n",
      " [-4  0  1]\n",
      " [ 1  3  5]]\n"
     ]
    }
   ],
   "source": [
    "print(mat.argmin(axis=1));\n",
    "print(mat.argmin(axis=0));\n",
    "print(mat);"
   ]
  },
  {
   "cell_type": "markdown",
   "id": "c02c53b7",
   "metadata": {},
   "source": [
    "Numpy allows us to apply arithmetic operations on arrays of same shape. The arithmetic operation will be applied to the corresponding elements (elements at same location) and this will not affect the shape of the arrays."
   ]
  },
  {
   "cell_type": "code",
   "execution_count": 15,
   "id": "c60b8a7c",
   "metadata": {},
   "outputs": [
    {
     "name": "stdout",
     "output_type": "stream",
     "text": [
      "[ 30   0 -38]\n"
     ]
    }
   ],
   "source": [
    "# we can do something like \n",
    "print(np.array([1, 0, -2]) * np.array([30, 1, 19]));"
   ]
  },
  {
   "cell_type": "markdown",
   "id": "aa41a9ab",
   "metadata": {},
   "source": [
    "We can also use generic functions like **<font style=\"color:red; font-size:15px\">sqrt, abs</font>** which are unary operators to find the required array"
   ]
  },
  {
   "cell_type": "code",
   "execution_count": 16,
   "id": "2a5e16d1",
   "metadata": {},
   "outputs": [
    {
     "name": "stdout",
     "output_type": "stream",
     "text": [
      "[[1.41421356 2.44948974 3.        ]\n",
      " [2.         0.         1.        ]\n",
      " [1.         1.73205081 2.23606798]]\n"
     ]
    }
   ],
   "source": [
    "print(np.sqrt(np.abs(mat)));"
   ]
  },
  {
   "cell_type": "markdown",
   "id": "f735f715",
   "metadata": {},
   "source": [
    "<span style=\"font-size:20px; font-weight:bold\"># Concept of subarrays<span>"
   ]
  },
  {
   "cell_type": "markdown",
   "id": "6909a8b5",
   "metadata": {},
   "source": [
    "Subarrays in numpy doesn't work the same way as list in python. The main difference being the use of reference. Suppose, we need to pick a subarray of a array in python's list, then we can use something like arr[l, r]. But, this returns us a new array between the indices l and r.\n",
    "\n",
    "But in numpy, a reference of the subarray from l and r is returned and so any changes made to the subarray, will also change the original array which this subarray is a part of.\n",
    "\n",
    "In order to get a new array, we need to use the .copy function to get the required result."
   ]
  },
  {
   "cell_type": "code",
   "execution_count": 17,
   "id": "94566856",
   "metadata": {},
   "outputs": [
    {
     "name": "stdout",
     "output_type": "stream",
     "text": [
      "[10  6  9]\n",
      "[10101010        6        9]\n"
     ]
    }
   ],
   "source": [
    "npList = arr2[2:5];\n",
    "print(npList);\n",
    "\n",
    "# now lets change the first element of the subarray npList\n",
    "\n",
    "npList[0] = 10101010;\n",
    "\n",
    "#  the above operation will also change the element at index 2\n",
    "\n",
    "print(npList);"
   ]
  },
  {
   "cell_type": "code",
   "execution_count": 18,
   "id": "443d938e",
   "metadata": {},
   "outputs": [
    {
     "name": "stdout",
     "output_type": "stream",
     "text": [
      "[10101010        6        9]\n"
     ]
    }
   ],
   "source": [
    "npList2 = arr2[2:5].copy();\n",
    "print(npList2);\n",
    "\n",
    "#  the above function creates a new array and copies these elements to it. So, changes wont affect the original array."
   ]
  }
 ],
 "metadata": {
  "kernelspec": {
   "display_name": "Python 3 (ipykernel)",
   "language": "python",
   "name": "python3"
  },
  "language_info": {
   "codemirror_mode": {
    "name": "ipython",
    "version": 3
   },
   "file_extension": ".py",
   "mimetype": "text/x-python",
   "name": "python",
   "nbconvert_exporter": "python",
   "pygments_lexer": "ipython3",
   "version": "3.11.5"
  }
 },
 "nbformat": 4,
 "nbformat_minor": 5
}
