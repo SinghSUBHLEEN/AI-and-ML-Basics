{
 "cells": [
  {
   "cell_type": "markdown",
   "id": "fe2796b6",
   "metadata": {},
   "source": [
    "# <font color=\"#2a9fd6\" size=\"10px\">Intro to Numpy</font>"
   ]
  },
  {
   "cell_type": "markdown",
   "id": "a725739f",
   "metadata": {},
   "source": [
    "* <strong size=\"20px\">Numpy</strong> is a python library that is build using <font color=\"red\">$\\textbf{C}$</font> and $\\textbf{Python}$ for better performance.\n",
    "\n",
    "* Numpy is used in python to increase the efficiency in run time and it takes a lot less memory than comapred to generic python data-structures."
   ]
  },
  {
   "cell_type": "code",
   "execution_count": null,
   "id": "92309715",
   "metadata": {},
   "outputs": [],
   "source": []
  }
 ],
 "metadata": {
  "kernelspec": {
   "display_name": "Python 3 (ipykernel)",
   "language": "python",
   "name": "python3"
  },
  "language_info": {
   "codemirror_mode": {
    "name": "ipython",
    "version": 3
   },
   "file_extension": ".py",
   "mimetype": "text/x-python",
   "name": "python",
   "nbconvert_exporter": "python",
   "pygments_lexer": "ipython3",
   "version": "3.11.5"
  }
 },
 "nbformat": 4,
 "nbformat_minor": 5
}
