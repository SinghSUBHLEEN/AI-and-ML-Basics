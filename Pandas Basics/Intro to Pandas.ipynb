{
 "cells": [
  {
   "cell_type": "markdown",
   "id": "f2023758",
   "metadata": {},
   "source": [
    "# <font color=\"#2a9fd6\" size=\"10px\">Intro to Pandas</font>"
   ]
  },
  {
   "cell_type": "markdown",
   "id": "46716182",
   "metadata": {},
   "source": [
    "It is <font color=\"red\">python library</font> which is used for <font color=\"red\">data manipulation and analysis.</font>\n",
    "\n",
    "<font color=\"red\" style=\"font-size:17px\">**Note:**</font> It should not be confused with a DBMS. It is just a library that helps in data manipulation and analysis only. It is used to read, write and manipulate csv, json, parquet, etc file types. \n",
    "\n",
    "* <font color=\"#485bbb\" style=\"font-size:20px; text-decoration:underline\">A DB is a complete system that is self sufficient to manage itself and it has a programming lagugage and tools of its own to interact with the data.</font>\n",
    " "
   ]
  },
  {
   "cell_type": "markdown",
   "id": "4c9e13f2",
   "metadata": {},
   "source": [
    "* <font color=\"#485bbb\" style=\"font-size:20px; text-decoration:underline\"> A DBMS takes care of everything like concurrency, fetch, query, security, efficient storage, etc. But, pandas is a library that just used for data manipulation and analysis and not for security and how to optimize the storage of data.</font>\n",
    "\n",
    "Just like numpy, we need to install this first by using the command <font color=\"green\" style=\"font-size:16px\">***pip install pandas***<font>."
   ]
  },
  {
   "cell_type": "markdown",
   "id": "eec7f416",
   "metadata": {},
   "source": [
    "Pandas uses Numpy internally to optimize its storage by a little bit. Pandas has two types of data structures:\n",
    "\n",
    "* Series : it is a 1D array with "
   ]
  },
  {
   "cell_type": "code",
   "execution_count": null,
   "id": "d06a9bb9",
   "metadata": {},
   "outputs": [],
   "source": []
  },
  {
   "cell_type": "code",
   "execution_count": null,
   "id": "bd159ef4",
   "metadata": {},
   "outputs": [],
   "source": []
  },
  {
   "cell_type": "code",
   "execution_count": null,
   "id": "8eb75681",
   "metadata": {},
   "outputs": [],
   "source": []
  }
 ],
 "metadata": {
  "kernelspec": {
   "display_name": "Python 3 (ipykernel)",
   "language": "python",
   "name": "python3"
  },
  "language_info": {
   "codemirror_mode": {
    "name": "ipython",
    "version": 3
   },
   "file_extension": ".py",
   "mimetype": "text/x-python",
   "name": "python",
   "nbconvert_exporter": "python",
   "pygments_lexer": "ipython3",
   "version": "3.11.5"
  }
 },
 "nbformat": 4,
 "nbformat_minor": 5
}
